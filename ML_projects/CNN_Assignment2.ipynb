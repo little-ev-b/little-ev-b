{
 "cells": [
  {
   "cell_type": "code",
   "execution_count": 9,
   "id": "48ad6f34-9d6b-4d8b-a59b-a940186894cf",
   "metadata": {},
   "outputs": [
    {
     "data": {
      "text/plain": [
       "(10000, 28, 28)"
      ]
     },
     "execution_count": 9,
     "metadata": {},
     "output_type": "execute_result"
    }
   ],
   "source": [
    "import tensorflow.keras as keras\n",
    "import pandas as pd\n",
    "\n",
    " # the data, split between train and validation sets\n",
    "(x_train, y_train), (x_valid, y_valid) = keras.datasets.fashion_mnist.load_data()\n",
    "\n",
    "# Turn our scalar targets into binary categories\n",
    "num_classes = 10\n",
    "y_train = keras.utils.to_categorical(y_train, num_classes)\n",
    "y_valid = keras.utils.to_categorical(y_valid, num_classes)\n",
    "\n",
    "# Normalize our image data\n",
    "x_train = x_train / 255\n",
    "x_valid = x_valid / 255\n",
    "\n",
    "x_train.shape\n",
    "x_valid.shape"
   ]
  },
  {
   "cell_type": "code",
   "execution_count": 10,
   "id": "04b6a17e-cf50-4a21-9cb0-936fd27d85e5",
   "metadata": {},
   "outputs": [],
   "source": [
    "from tensorflow.keras.models import Sequential\n",
    "from tensorflow.keras.layers import (\n",
    "    Dense,\n",
    "    Conv2D,\n",
    "    MaxPool2D,\n",
    "    Flatten,\n",
    "    Dropout,\n",
    "    BatchNormalization,\n",
    ")\n",
    "\n",
    "from tensorflow.keras.models import Sequential\n",
    "from tensorflow.keras.layers import (\n",
    "    Dense,\n",
    "    Conv2D,\n",
    "    MaxPool2D,\n",
    "    Flatten,\n",
    "    Dropout,\n",
    "    BatchNormalization,\n",
    ")\n",
    "from tensorflow.keras.optimizers import Adam\n",
    "\n",
    "# Define the optimizer with a custom learning rate\n",
    "learning_rate = 0.01\n",
    "optimizer = Adam(learning_rate=learning_rate)\n",
    "\n",
    "# Define the model\n",
    "model = Sequential()\n",
    "model.add(Conv2D(75, (3, 3), strides=1, padding=\"same\", activation=\"relu\",\n",
    "                 input_shape=(28, 28, 1)))\n",
    "model.add(MaxPool2D((2, 2), strides=2, padding=\"same\"))\n",
    "model.add(BatchNormalization())\n",
    "model.add(Conv2D(50, (3, 3), strides=1, padding=\"same\", activation=\"relu\"))\n",
    "model.add(BatchNormalization())\n",
    "model.add(Dropout(0.2))\n",
    "model.add(Conv2D(50, (2, 2), strides=1, padding=\"same\", activation=\"relu\"))\n",
    "model.add(MaxPool2D((2, 2), strides=2, padding=\"same\"))\n",
    "model.add(BatchNormalization())\n",
    "model.add(Conv2D(25, (3, 3), strides=1, padding=\"same\", activation=\"relu\"))\n",
    "model.add(MaxPool2D((2, 2), strides=2, padding=\"same\"))\n",
    "model.add(BatchNormalization())\n",
    "model.add(Flatten())\n",
    "model.add(Dropout(0.3))\n",
    "model.add(Dense(units=512, activation=\"relu\"))\n",
    "model.add(Dense(units=num_classes, activation=\"softmax\"))\n"
   ]
  },
  {
   "cell_type": "code",
   "execution_count": 11,
   "id": "df5c9ab4-2a57-4b7b-bf0f-c0bf4e8f638d",
   "metadata": {},
   "outputs": [
    {
     "name": "stdout",
     "output_type": "stream",
     "text": [
      "Model: \"sequential_2\"\n",
      "_________________________________________________________________\n",
      " Layer (type)                Output Shape              Param #   \n",
      "=================================================================\n",
      " conv2d_7 (Conv2D)           (None, 28, 28, 75)        750       \n",
      "                                                                 \n",
      " max_pooling2d_6 (MaxPooling  (None, 14, 14, 75)       0         \n",
      " 2D)                                                             \n",
      "                                                                 \n",
      " batch_normalization_7 (Batc  (None, 14, 14, 75)       300       \n",
      " hNormalization)                                                 \n",
      "                                                                 \n",
      " conv2d_8 (Conv2D)           (None, 14, 14, 50)        33800     \n",
      "                                                                 \n",
      " batch_normalization_8 (Batc  (None, 14, 14, 50)       200       \n",
      " hNormalization)                                                 \n",
      "                                                                 \n",
      " dropout_4 (Dropout)         (None, 14, 14, 50)        0         \n",
      "                                                                 \n",
      " conv2d_9 (Conv2D)           (None, 14, 14, 50)        10050     \n",
      "                                                                 \n",
      " max_pooling2d_7 (MaxPooling  (None, 7, 7, 50)         0         \n",
      " 2D)                                                             \n",
      "                                                                 \n",
      " batch_normalization_9 (Batc  (None, 7, 7, 50)         200       \n",
      " hNormalization)                                                 \n",
      "                                                                 \n",
      " conv2d_10 (Conv2D)          (None, 7, 7, 25)          11275     \n",
      "                                                                 \n",
      " max_pooling2d_8 (MaxPooling  (None, 4, 4, 25)         0         \n",
      " 2D)                                                             \n",
      "                                                                 \n",
      " batch_normalization_10 (Bat  (None, 4, 4, 25)         100       \n",
      " chNormalization)                                                \n",
      "                                                                 \n",
      " flatten_2 (Flatten)         (None, 400)               0         \n",
      "                                                                 \n",
      " dropout_5 (Dropout)         (None, 400)               0         \n",
      "                                                                 \n",
      " dense_4 (Dense)             (None, 512)               205312    \n",
      "                                                                 \n",
      " dense_5 (Dense)             (None, 10)                5130      \n",
      "                                                                 \n",
      "=================================================================\n",
      "Total params: 267,117\n",
      "Trainable params: 266,717\n",
      "Non-trainable params: 400\n",
      "_________________________________________________________________\n"
     ]
    }
   ],
   "source": [
    "model.summary()"
   ]
  },
  {
   "cell_type": "code",
   "execution_count": 12,
   "id": "5caa608e-a79c-468f-b5b3-5fed022428f0",
   "metadata": {},
   "outputs": [
    {
     "name": "stdout",
     "output_type": "stream",
     "text": [
      "Epoch 1/20\n",
      "1875/1875 [==============================] - 76s 40ms/step - loss: 0.4594 - accuracy: 0.8335 - val_loss: 0.3628 - val_accuracy: 0.8718\n",
      "Epoch 2/20\n",
      "1875/1875 [==============================] - 75s 40ms/step - loss: 0.3402 - accuracy: 0.8757 - val_loss: 0.3840 - val_accuracy: 0.8679\n",
      "Epoch 3/20\n",
      "1875/1875 [==============================] - 74s 39ms/step - loss: 0.3143 - accuracy: 0.8838 - val_loss: 0.2972 - val_accuracy: 0.8970\n",
      "Epoch 4/20\n",
      "1875/1875 [==============================] - 72s 39ms/step - loss: 0.3022 - accuracy: 0.8914 - val_loss: 0.2777 - val_accuracy: 0.9002\n",
      "Epoch 5/20\n",
      "1875/1875 [==============================] - 76s 41ms/step - loss: 0.2870 - accuracy: 0.8957 - val_loss: 0.2936 - val_accuracy: 0.8931\n",
      "Epoch 6/20\n",
      "1875/1875 [==============================] - 85s 45ms/step - loss: 0.2764 - accuracy: 0.8987 - val_loss: 0.2833 - val_accuracy: 0.8968\n",
      "Epoch 7/20\n",
      "1875/1875 [==============================] - 85s 45ms/step - loss: 0.2719 - accuracy: 0.9025 - val_loss: 0.2841 - val_accuracy: 0.8971\n",
      "Epoch 8/20\n",
      "1875/1875 [==============================] - 89s 48ms/step - loss: 0.2692 - accuracy: 0.9052 - val_loss: 0.2550 - val_accuracy: 0.9058\n",
      "Epoch 9/20\n",
      "1875/1875 [==============================] - 87s 46ms/step - loss: 0.2591 - accuracy: 0.9065 - val_loss: 0.2680 - val_accuracy: 0.9003\n",
      "Epoch 10/20\n",
      "1875/1875 [==============================] - 86s 46ms/step - loss: 0.2521 - accuracy: 0.9108 - val_loss: 0.2664 - val_accuracy: 0.9040\n",
      "Epoch 11/20\n",
      "1875/1875 [==============================] - 87s 47ms/step - loss: 0.2509 - accuracy: 0.9113 - val_loss: 0.2632 - val_accuracy: 0.9067\n",
      "Epoch 12/20\n",
      "1875/1875 [==============================] - 87s 47ms/step - loss: 0.2463 - accuracy: 0.9115 - val_loss: 0.2604 - val_accuracy: 0.9072\n",
      "Epoch 13/20\n",
      "1875/1875 [==============================] - 89s 47ms/step - loss: 0.2401 - accuracy: 0.9138 - val_loss: 0.2561 - val_accuracy: 0.9068\n",
      "Epoch 14/20\n",
      "1875/1875 [==============================] - 87s 46ms/step - loss: 0.2403 - accuracy: 0.9145 - val_loss: 0.2552 - val_accuracy: 0.9129\n",
      "Epoch 15/20\n",
      "1875/1875 [==============================] - 85s 45ms/step - loss: 0.2375 - accuracy: 0.9161 - val_loss: 0.2535 - val_accuracy: 0.9126\n",
      "Epoch 16/20\n",
      "1875/1875 [==============================] - 83s 45ms/step - loss: 0.2378 - accuracy: 0.9175 - val_loss: 0.2764 - val_accuracy: 0.9035\n",
      "Epoch 17/20\n",
      "1875/1875 [==============================] - 82s 44ms/step - loss: 0.2350 - accuracy: 0.9166 - val_loss: 0.2955 - val_accuracy: 0.8976\n",
      "Epoch 18/20\n",
      "1875/1875 [==============================] - 80s 43ms/step - loss: 0.2330 - accuracy: 0.9177 - val_loss: 0.3302 - val_accuracy: 0.8895\n",
      "Epoch 19/20\n",
      "1875/1875 [==============================] - 73s 39ms/step - loss: 0.2268 - accuracy: 0.9198 - val_loss: 0.2336 - val_accuracy: 0.9179\n",
      "Epoch 20/20\n",
      "1875/1875 [==============================] - 74s 39ms/step - loss: 0.2320 - accuracy: 0.9174 - val_loss: 0.4922 - val_accuracy: 0.8588\n"
     ]
    },
    {
     "data": {
      "text/plain": [
       "<keras.callbacks.History at 0x7f98812919d0>"
      ]
     },
     "execution_count": 12,
     "metadata": {},
     "output_type": "execute_result"
    }
   ],
   "source": [
    "model.compile(optimizer=optimizer, loss=\"categorical_crossentropy\", metrics=[\"accuracy\"])\n",
    "model.fit(x_train, y_train, epochs=20, verbose=1, validation_data=(x_valid, y_valid))"
   ]
  },
  {
   "cell_type": "code",
   "execution_count": 13,
   "id": "ce22e698-1053-4aa8-bab9-d7d4b72cf73e",
   "metadata": {},
   "outputs": [
    {
     "data": {
      "text/plain": [
       "{'status': 'ok', 'restart': True}"
      ]
     },
     "execution_count": 13,
     "metadata": {},
     "output_type": "execute_result"
    }
   ],
   "source": [
    "import IPython\n",
    "app = IPython.Application.instance()\n",
    "app.kernel.do_shutdown(True)"
   ]
  }
 ],
 "metadata": {
  "kernelspec": {
   "display_name": "Python 3 (ipykernel)",
   "language": "python",
   "name": "python3"
  },
  "language_info": {
   "codemirror_mode": {
    "name": "ipython",
    "version": 3
   },
   "file_extension": ".py",
   "mimetype": "text/x-python",
   "name": "python",
   "nbconvert_exporter": "python",
   "pygments_lexer": "ipython3",
   "version": "3.11.5"
  }
 },
 "nbformat": 4,
 "nbformat_minor": 5
}
